{
  "nbformat": 4,
  "nbformat_minor": 0,
  "metadata": {
    "colab": {
      "provenance": [],
      "authorship_tag": "ABX9TyO1KU5jhvp7RzpRPuFsnPN+",
      "include_colab_link": true
    },
    "kernelspec": {
      "name": "python3",
      "display_name": "Python 3"
    },
    "language_info": {
      "name": "python"
    }
  },
  "cells": [
    {
      "cell_type": "markdown",
      "metadata": {
        "id": "view-in-github",
        "colab_type": "text"
      },
      "source": [
        "<a href=\"https://colab.research.google.com/github/2303A51672/ADM-Lab/blob/main/lab3.ipynb\" target=\"_parent\"><img src=\"https://colab.research.google.com/assets/colab-badge.svg\" alt=\"Open In Colab\"/></a>"
      ]
    },
    {
      "cell_type": "code",
      "execution_count": null,
      "metadata": {
        "id": "Z8QW7kHAOJ4x"
      },
      "outputs": [],
      "source": [
        "import pandas as pd"
      ]
    },
    {
      "cell_type": "code",
      "source": [
        "file_path = '/content/adm lab2.csv'\n",
        "data = pd.read_csv(file_path)"
      ],
      "metadata": {
        "id": "BmU04IoNU7aJ"
      },
      "execution_count": null,
      "outputs": []
    },
    {
      "cell_type": "code",
      "source": [
        "print(\"Summary Statistics:\")\n",
        "print(data.describe())"
      ],
      "metadata": {
        "colab": {
          "base_uri": "https://localhost:8080/"
        },
        "id": "YPWL6cW4VE-I",
        "outputId": "d18cb648-0774-464e-f795-31edee653de8"
      },
      "execution_count": null,
      "outputs": [
        {
          "output_type": "stream",
          "name": "stdout",
          "text": [
            "Summary Statistics:\n",
            "                  ID            Age  Family_Income  Genetic_Risk_Score  \\\n",
            "count  100000.000000  100000.000000   1.000000e+05       100000.000000   \n",
            "mean    50000.500000      20.007890   1.299440e+06            5.505340   \n",
            "std     28867.657797       3.154934   6.919403e+05            2.872218   \n",
            "min         1.000000      15.000000   1.000040e+05            1.000000   \n",
            "25%     25000.750000      17.000000   7.022028e+05            3.000000   \n",
            "50%     50000.500000      20.000000   1.299990e+06            6.000000   \n",
            "75%     75000.250000      23.000000   1.898916e+06            8.000000   \n",
            "max    100000.000000      25.000000   2.499974e+06           10.000000   \n",
            "\n",
            "                 BMI  Fast_Food_Intake  Fasting_Blood_Sugar          HbA1c  \\\n",
            "count  100000.000000     100000.000000        100000.000000  100000.000000   \n",
            "mean       28.028089          4.988580           125.072216       7.006461   \n",
            "std         6.924196          3.169762            31.788613       1.735327   \n",
            "min        16.000000          0.000000            70.000000       4.000000   \n",
            "25%        22.100000          2.000000            97.600000       5.500000   \n",
            "50%        28.000000          5.000000           125.200000       7.000000   \n",
            "75%        34.000000          8.000000           152.600000       8.500000   \n",
            "max        40.000000         10.000000           180.000000      10.000000   \n",
            "\n",
            "       Cholesterol_Level    Sleep_Hours  Stress_Level    Screen_Time  \n",
            "count      100000.000000  100000.000000  100000.00000  100000.000000  \n",
            "mean          209.903952       6.988082       5.50681       6.503842  \n",
            "std            52.049374       1.734122       2.87943       3.170210  \n",
            "min           120.000000       4.000000       1.00000       1.000000  \n",
            "25%           164.800000       5.500000       3.00000       3.800000  \n",
            "50%           209.800000       7.000000       6.00000       6.500000  \n",
            "75%           255.000000       8.500000       8.00000       9.300000  \n",
            "max           300.000000      10.000000      10.00000      12.000000  \n"
          ]
        }
      ]
    },
    {
      "cell_type": "code",
      "source": [
        "print(\"Summary Statistics:\")\n",
        "print(data.describe())"
      ],
      "metadata": {
        "colab": {
          "base_uri": "https://localhost:8080/"
        },
        "id": "fIbnvoRyVynW",
        "outputId": "47f49de1-7ef7-43e3-8203-48eb4393bae0"
      },
      "execution_count": null,
      "outputs": [
        {
          "output_type": "stream",
          "name": "stdout",
          "text": [
            "Summary Statistics:\n",
            "                  ID            Age  Family_Income  Genetic_Risk_Score  \\\n",
            "count  100000.000000  100000.000000   1.000000e+05       100000.000000   \n",
            "mean    50000.500000      20.007890   1.299440e+06            5.505340   \n",
            "std     28867.657797       3.154934   6.919403e+05            2.872218   \n",
            "min         1.000000      15.000000   1.000040e+05            1.000000   \n",
            "25%     25000.750000      17.000000   7.022028e+05            3.000000   \n",
            "50%     50000.500000      20.000000   1.299990e+06            6.000000   \n",
            "75%     75000.250000      23.000000   1.898916e+06            8.000000   \n",
            "max    100000.000000      25.000000   2.499974e+06           10.000000   \n",
            "\n",
            "                 BMI  Fast_Food_Intake  Fasting_Blood_Sugar          HbA1c  \\\n",
            "count  100000.000000     100000.000000        100000.000000  100000.000000   \n",
            "mean       28.028089          4.988580           125.072216       7.006461   \n",
            "std         6.924196          3.169762            31.788613       1.735327   \n",
            "min        16.000000          0.000000            70.000000       4.000000   \n",
            "25%        22.100000          2.000000            97.600000       5.500000   \n",
            "50%        28.000000          5.000000           125.200000       7.000000   \n",
            "75%        34.000000          8.000000           152.600000       8.500000   \n",
            "max        40.000000         10.000000           180.000000      10.000000   \n",
            "\n",
            "       Cholesterol_Level    Sleep_Hours  Stress_Level    Screen_Time  \n",
            "count      100000.000000  100000.000000  100000.00000  100000.000000  \n",
            "mean          209.903952       6.988082       5.50681       6.503842  \n",
            "std            52.049374       1.734122       2.87943       3.170210  \n",
            "min           120.000000       4.000000       1.00000       1.000000  \n",
            "25%           164.800000       5.500000       3.00000       3.800000  \n",
            "50%           209.800000       7.000000       6.00000       6.500000  \n",
            "75%           255.000000       8.500000       8.00000       9.300000  \n",
            "max           300.000000      10.000000      10.00000      12.000000  \n"
          ]
        }
      ]
    },
    {
      "cell_type": "code",
      "source": [
        "import pandas as pd\n",
        "correlation_matrix = data.select_dtypes(include=['number']).corr()  # Select only numeric columns\n",
        "print(\"\\nCorrelation Matrix:\")\n",
        "print(correlation_matrix)"
      ],
      "metadata": {
        "colab": {
          "base_uri": "https://localhost:8080/"
        },
        "id": "IGydGm6rV_go",
        "outputId": "bb89fe75-2b28-48a8-a7cd-6a055fd403c9"
      },
      "execution_count": null,
      "outputs": [
        {
          "output_type": "stream",
          "name": "stdout",
          "text": [
            "\n",
            "Correlation Matrix:\n",
            "                           ID       Age  Family_Income  Genetic_Risk_Score  \\\n",
            "ID                   1.000000  0.003568      -0.003564            0.001799   \n",
            "Age                  0.003568  1.000000      -0.001769            0.001340   \n",
            "Family_Income       -0.003564 -0.001769       1.000000           -0.011137   \n",
            "Genetic_Risk_Score   0.001799  0.001340      -0.011137            1.000000   \n",
            "BMI                  0.006861 -0.000482       0.004825           -0.000718   \n",
            "Fast_Food_Intake    -0.004999  0.006896       0.004832           -0.001631   \n",
            "Fasting_Blood_Sugar  0.000203 -0.001088      -0.002477           -0.002304   \n",
            "HbA1c                0.000385  0.006189      -0.003064           -0.000352   \n",
            "Cholesterol_Level   -0.000569 -0.000582      -0.000939            0.004004   \n",
            "Sleep_Hours          0.001116 -0.000743       0.002550            0.000286   \n",
            "Stress_Level         0.001973  0.004517      -0.002848            0.002548   \n",
            "Screen_Time          0.000060  0.000513      -0.002706            0.001562   \n",
            "\n",
            "                          BMI  Fast_Food_Intake  Fasting_Blood_Sugar  \\\n",
            "ID                   0.006861         -0.004999             0.000203   \n",
            "Age                 -0.000482          0.006896            -0.001088   \n",
            "Family_Income        0.004825          0.004832            -0.002477   \n",
            "Genetic_Risk_Score  -0.000718         -0.001631            -0.002304   \n",
            "BMI                  1.000000         -0.002043            -0.000011   \n",
            "Fast_Food_Intake    -0.002043          1.000000             0.002697   \n",
            "Fasting_Blood_Sugar -0.000011          0.002697             1.000000   \n",
            "HbA1c                0.005600          0.001768            -0.002618   \n",
            "Cholesterol_Level   -0.002994          0.000207             0.001145   \n",
            "Sleep_Hours         -0.002895         -0.008323            -0.002721   \n",
            "Stress_Level        -0.000203         -0.001666            -0.003671   \n",
            "Screen_Time         -0.005156         -0.001891             0.002519   \n",
            "\n",
            "                        HbA1c  Cholesterol_Level  Sleep_Hours  Stress_Level  \\\n",
            "ID                   0.000385          -0.000569     0.001116      0.001973   \n",
            "Age                  0.006189          -0.000582    -0.000743      0.004517   \n",
            "Family_Income       -0.003064          -0.000939     0.002550     -0.002848   \n",
            "Genetic_Risk_Score  -0.000352           0.004004     0.000286      0.002548   \n",
            "BMI                  0.005600          -0.002994    -0.002895     -0.000203   \n",
            "Fast_Food_Intake     0.001768           0.000207    -0.008323     -0.001666   \n",
            "Fasting_Blood_Sugar -0.002618           0.001145    -0.002721     -0.003671   \n",
            "HbA1c                1.000000          -0.001143    -0.003240      0.002687   \n",
            "Cholesterol_Level   -0.001143           1.000000     0.001186     -0.006368   \n",
            "Sleep_Hours         -0.003240           0.001186     1.000000     -0.002203   \n",
            "Stress_Level         0.002687          -0.006368    -0.002203      1.000000   \n",
            "Screen_Time          0.002138           0.004065     0.002309      0.001587   \n",
            "\n",
            "                     Screen_Time  \n",
            "ID                      0.000060  \n",
            "Age                     0.000513  \n",
            "Family_Income          -0.002706  \n",
            "Genetic_Risk_Score      0.001562  \n",
            "BMI                    -0.005156  \n",
            "Fast_Food_Intake       -0.001891  \n",
            "Fasting_Blood_Sugar     0.002519  \n",
            "HbA1c                   0.002138  \n",
            "Cholesterol_Level       0.004065  \n",
            "Sleep_Hours             0.002309  \n",
            "Stress_Level            0.001587  \n",
            "Screen_Time             1.000000  \n"
          ]
        }
      ]
    },
    {
      "cell_type": "code",
      "source": [
        "bmi_distribution = data['BMI'].describe()\n",
        "print(\"\\nDistribution of BMI:\")\n",
        "print(bmi_distribution)"
      ],
      "metadata": {
        "colab": {
          "base_uri": "https://localhost:8080/"
        },
        "id": "xbgiP22ZbUv0",
        "outputId": "9fd99b94-cf81-4544-ba35-e06d604da554"
      },
      "execution_count": null,
      "outputs": [
        {
          "output_type": "stream",
          "name": "stdout",
          "text": [
            "\n",
            "Distribution of BMI:\n",
            "count    100000.000000\n",
            "mean         28.028089\n",
            "std           6.924196\n",
            "min          16.000000\n",
            "25%          22.100000\n",
            "50%          28.000000\n",
            "75%          34.000000\n",
            "max          40.000000\n",
            "Name: BMI, dtype: float64\n"
          ]
        }
      ]
    },
    {
      "cell_type": "code",
      "source": [
        "fasting_blood_sugar_stats = data.groupby('Diabetes_Type')['Fasting_Blood_Sugar'].describe()\n",
        "print(\"\\nFasting Blood Sugar by Diabetes Type:\")\n",
        "print(fasting_blood_sugar_stats)"
      ],
      "metadata": {
        "colab": {
          "base_uri": "https://localhost:8080/"
        },
        "id": "6yj00sOlbXhF",
        "outputId": "dc9be51f-45f6-482c-cd24-02f5ad410db1"
      },
      "execution_count": null,
      "outputs": [
        {
          "output_type": "stream",
          "name": "stdout",
          "text": [
            "\n",
            "Fasting Blood Sugar by Diabetes Type:\n",
            "                 count        mean        std   min   25%    50%    75%    max\n",
            "Diabetes_Type                                                                 \n",
            "Type 1          4927.0  125.459143  31.867782  70.0  97.5  125.8  153.3  180.0\n",
            "Type 2         20297.0  124.869124  31.891932  70.0  97.2  124.9  152.5  180.0\n"
          ]
        }
      ]
    },
    {
      "cell_type": "code",
      "source": [
        "q1 = data['HbA1c'].quantile(0.25)\n",
        "q3 = data['HbA1c'].quantile(0.75)\n",
        "iqr = q3 - q1\n",
        "outliers = data[(data['HbA1c'] < (q1 - 1.5 * iqr)) | (data['HbA1c'] > (q3 + 1.5 * iqr))]\n",
        "print(\"\\nOutliers in HbA1c:\")\n",
        "print(outliers[['ID', 'HbA1c']])"
      ],
      "metadata": {
        "colab": {
          "base_uri": "https://localhost:8080/"
        },
        "id": "jRo8CaIObaP-",
        "outputId": "ea87c4e8-bc27-4310-bf64-ddd36dfa126a"
      },
      "execution_count": null,
      "outputs": [
        {
          "output_type": "stream",
          "name": "stdout",
          "text": [
            "\n",
            "Outliers in HbA1c:\n",
            "Empty DataFrame\n",
            "Columns: [ID, HbA1c]\n",
            "Index: []\n"
          ]
        }
      ]
    },
    {
      "cell_type": "code",
      "source": [
        "physical_activity_counts = data['Physical_Activity_Level'].value_counts()\n",
        "print(\"\\nPhysical Activity Level Distribution:\")\n",
        "print(physical_activity_counts)"
      ],
      "metadata": {
        "colab": {
          "base_uri": "https://localhost:8080/"
        },
        "id": "jS7Dl3WNbk3d",
        "outputId": "3dc34ce0-15b4-40f5-b3a5-2dbb4b94a222"
      },
      "execution_count": null,
      "outputs": [
        {
          "output_type": "stream",
          "name": "stdout",
          "text": [
            "\n",
            "Physical Activity Level Distribution:\n",
            "Physical_Activity_Level\n",
            "Sedentary    50087\n",
            "Moderate     29896\n",
            "Active       20017\n",
            "Name: count, dtype: int64\n"
          ]
        }
      ]
    },
    {
      "cell_type": "code",
      "source": [
        "selected_features = ['BMI', 'Fasting_Blood_Sugar', 'HbA1c', 'Cholesterol_Level', 'Genetic_Risk_Score']\n",
        "feature_correlations = data[selected_features].corr()\n",
        "print(\"\\nPairwise Correlations for Selected Features:\")\n",
        "print(feature_correlations)"
      ],
      "metadata": {
        "id": "nqLWayy9boac",
        "outputId": "46d84f7f-a3ef-4a00-9e69-f3e9ee3c74cc",
        "colab": {
          "base_uri": "https://localhost:8080/"
        }
      },
      "execution_count": null,
      "outputs": [
        {
          "output_type": "stream",
          "name": "stdout",
          "text": [
            "\n",
            "Pairwise Correlations for Selected Features:\n",
            "                          BMI  Fasting_Blood_Sugar     HbA1c  \\\n",
            "BMI                  1.000000            -0.000011  0.005600   \n",
            "Fasting_Blood_Sugar -0.000011             1.000000 -0.002618   \n",
            "HbA1c                0.005600            -0.002618  1.000000   \n",
            "Cholesterol_Level   -0.002994             0.001145 -0.001143   \n",
            "Genetic_Risk_Score  -0.000718            -0.002304 -0.000352   \n",
            "\n",
            "                     Cholesterol_Level  Genetic_Risk_Score  \n",
            "BMI                          -0.002994           -0.000718  \n",
            "Fasting_Blood_Sugar           0.001145           -0.002304  \n",
            "HbA1c                        -0.001143           -0.000352  \n",
            "Cholesterol_Level             1.000000            0.004004  \n",
            "Genetic_Risk_Score            0.004004            1.000000  \n"
          ]
        }
      ]
    }
  ]
}