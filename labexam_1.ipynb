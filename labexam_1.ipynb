{
  "nbformat": 4,
  "nbformat_minor": 0,
  "metadata": {
    "colab": {
      "provenance": [],
      "authorship_tag": "ABX9TyMApF1scsrikScQiTggvL/5",
      "include_colab_link": true
    },
    "kernelspec": {
      "name": "python3",
      "display_name": "Python 3"
    },
    "language_info": {
      "name": "python"
    }
  },
  "cells": [
    {
      "cell_type": "markdown",
      "metadata": {
        "id": "view-in-github",
        "colab_type": "text"
      },
      "source": [
        "<a href=\"https://colab.research.google.com/github/2303A51672/ADM-Lab/blob/main/labexam_1.ipynb\" target=\"_parent\"><img src=\"https://colab.research.google.com/assets/colab-badge.svg\" alt=\"Open In Colab\"/></a>"
      ]
    },
    {
      "cell_type": "code",
      "source": [
        "import pandas as pd"
      ],
      "metadata": {
        "id": "I8VE3vcNr0oU"
      },
      "execution_count": 2,
      "outputs": []
    },
    {
      "cell_type": "code",
      "source": [
        "uni = pd.read_csv(\"/content/university_student.csv\")"
      ],
      "metadata": {
        "id": "AquirJYar1NM"
      },
      "execution_count": 5,
      "outputs": []
    },
    {
      "cell_type": "code",
      "source": [
        "print(\"First 10 rows:\")\n",
        "print(uni.head(10))"
      ],
      "metadata": {
        "colab": {
          "base_uri": "https://localhost:8080/"
        },
        "id": "7Q0830ySsB0O",
        "outputId": "80e4db93-ee6a-4990-bb02-8202d10ad14c"
      },
      "execution_count": 7,
      "outputs": [
        {
          "output_type": "stream",
          "name": "stdout",
          "text": [
            "First 10 rows:\n",
            "   Student ID  Gender Date of Birth  Study Time Grade School Type  Absences  \\\n",
            "0           1    Male    1996-12-03          11     D      Public         2   \n",
            "1           2  Female    2001-09-15           5     D     Private         0   \n",
            "2           3    Male    2002-08-09           8     A     Private         2   \n",
            "3           4    Male    1999-04-29           8     A     Private         3   \n",
            "4           5    Male    1995-06-11           9     B     Private         1   \n",
            "5           6  Female    1995-07-21          11     A     Private         1   \n",
            "6           7    Male    2000-06-04          11     C      Public         4   \n",
            "7           8    Male    1997-09-22          15     D     Private         1   \n",
            "8           9    Male    2001-05-06           8     A      Public         4   \n",
            "9          10  Female    2005-10-09          11     A     Private         5   \n",
            "\n",
            "   Math Score  Reading Score  Writing Score  \n",
            "0          72             91             69  \n",
            "1          66             58             62  \n",
            "2          75             99             77  \n",
            "3          57             76             97  \n",
            "4          78             51             78  \n",
            "5          75             54             62  \n",
            "6          59             78             95  \n",
            "7          75             86             84  \n",
            "8          83             87             55  \n",
            "9         100             68             67  \n"
          ]
        }
      ]
    },
    {
      "cell_type": "code",
      "source": [
        "print(\"\\nMissing values:\")\n",
        "print(uni.isnull().sum())\n",
        "uni.fillna(method='ffill', inplace=True)"
      ],
      "metadata": {
        "colab": {
          "base_uri": "https://localhost:8080/"
        },
        "id": "o6mwXYDOsJsr",
        "outputId": "3f195293-085d-4e3e-9075-19c558220629"
      },
      "execution_count": 8,
      "outputs": [
        {
          "output_type": "stream",
          "name": "stdout",
          "text": [
            "\n",
            "Missing values:\n",
            "Student ID       0\n",
            "Gender           0\n",
            "Date of Birth    0\n",
            "Study Time       0\n",
            "Grade            0\n",
            "School Type      0\n",
            "Absences         0\n",
            "Math Score       0\n",
            "Reading Score    0\n",
            "Writing Score    0\n",
            "dtype: int64\n"
          ]
        },
        {
          "output_type": "stream",
          "name": "stderr",
          "text": [
            "<ipython-input-8-30a5cdc73a56>:3: FutureWarning: DataFrame.fillna with 'method' is deprecated and will raise in a future version. Use obj.ffill() or obj.bfill() instead.\n",
            "  uni.fillna(method='ffill', inplace=True)\n"
          ]
        }
      ]
    },
    {
      "cell_type": "code",
      "source": [
        "uni_encoded = pd.get_dummies(uni, columns=['Gender', 'School Type'])\n",
        "print(\"\\nDataset after one-hot encoding:\")\n",
        "print(uni_encoded.head())"
      ],
      "metadata": {
        "colab": {
          "base_uri": "https://localhost:8080/"
        },
        "id": "ApPRA150sLQN",
        "outputId": "35e04d48-c5cc-4a6f-c4d5-e396696e3a0c"
      },
      "execution_count": 9,
      "outputs": [
        {
          "output_type": "stream",
          "name": "stdout",
          "text": [
            "\n",
            "Dataset after one-hot encoding:\n",
            "   Student ID Date of Birth  Study Time Grade  Absences  Math Score  \\\n",
            "0           1    1996-12-03          11     D         2          72   \n",
            "1           2    2001-09-15           5     D         0          66   \n",
            "2           3    2002-08-09           8     A         2          75   \n",
            "3           4    1999-04-29           8     A         3          57   \n",
            "4           5    1995-06-11           9     B         1          78   \n",
            "\n",
            "   Reading Score  Writing Score  Gender_Female  Gender_Male  \\\n",
            "0             91             69          False         True   \n",
            "1             58             62           True        False   \n",
            "2             99             77          False         True   \n",
            "3             76             97          False         True   \n",
            "4             51             78          False         True   \n",
            "\n",
            "   School Type_Private  School Type_Public  \n",
            "0                False                True  \n",
            "1                 True               False  \n",
            "2                 True               False  \n",
            "3                 True               False  \n",
            "4                 True               False  \n"
          ]
        }
      ]
    },
    {
      "cell_type": "code",
      "source": [
        "print(uni.columns)\n",
        "match_stats = uni['Student ID'].agg(['mean', 'median', 'std'])\n",
        "print(\"\\nMatch Score Statistics:\")\n",
        "print(match_stats)"
      ],
      "metadata": {
        "colab": {
          "base_uri": "https://localhost:8080/"
        },
        "id": "aQwu5oyhsQzt",
        "outputId": "d52f9d77-1a9c-4e93-b19f-a69de7b03422"
      },
      "execution_count": 14,
      "outputs": [
        {
          "output_type": "stream",
          "name": "stdout",
          "text": [
            "Index(['Student ID', 'Gender', 'Date of Birth', 'Study Time', 'Grade',\n",
            "       'School Type', 'Absences', 'Math Score', 'Reading Score',\n",
            "       'Writing Score'],\n",
            "      dtype='object')\n",
            "\n",
            "Match Score Statistics:\n",
            "mean      50.500000\n",
            "median    50.500000\n",
            "std       29.011492\n",
            "Name: Student ID, dtype: float64\n"
          ]
        }
      ]
    },
    {
      "cell_type": "code",
      "source": [
        "school_counts = uni['School Type'].value_counts()\n",
        "print(\"\\nTotal number of students per School Type:\")\n",
        "print(school_counts)"
      ],
      "metadata": {
        "colab": {
          "base_uri": "https://localhost:8080/"
        },
        "id": "ShlXf8l7svFr",
        "outputId": "c39bc0fd-d7c4-4cf5-d2ae-3d2a05a96501"
      },
      "execution_count": 15,
      "outputs": [
        {
          "output_type": "stream",
          "name": "stdout",
          "text": [
            "\n",
            "Total number of students per School Type:\n",
            "School Type\n",
            "Private    59\n",
            "Public     41\n",
            "Name: count, dtype: int64\n"
          ]
        }
      ]
    }
  ]
}